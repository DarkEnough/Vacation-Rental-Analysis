{
 "cells": [
  {
   "cell_type": "markdown",
   "id": "472a61ca-86ec-4220-b834-3f128eb9cf31",
   "metadata": {},
   "source": [
    "# Vacation Rental Analysis and Revenue Forecasting\n",
    "\n",
    "This project manages vacation rental data, integrates with a MySQL database, and provides a user-friendly interface for browsing, booking, and managing listings.\n",
    "\n",
    "---\n",
    "\n",
    "## Section 1: Importing Required Libraries\n",
    "\n",
    "These libraries are essential for data manipulation, database interaction, and visualization."
   ]
  },
  {
   "cell_type": "code",
   "execution_count": 1,
   "id": "f456f76d-8600-40db-9d32-4f324474bb01",
   "metadata": {},
   "outputs": [],
   "source": [
    "import pandas as pd\n",
    "from datetime import datetime\n",
    "import random\n",
    "import mysql.connector\n",
    "from mysql.connector import Error\n",
    "import matplotlib.pyplot as plt\n",
    "import numpy as np"
   ]
  },
  {
   "cell_type": "markdown",
   "id": "5d051147-b6bb-4551-8d7f-0c862398ba7b",
   "metadata": {},
   "source": [
    "## Section 2: Loading Data from CSV Files\n",
    "\n",
    "The following section loads data from CSV files into pandas DataFrames for processing."
   ]
  },
  {
   "cell_type": "code",
   "execution_count": 4,
   "id": "aa408598-abf4-46aa-8f8a-a333299baf06",
   "metadata": {},
   "outputs": [],
   "source": [
    "properties_df = pd.read_csv(\"/Users/anish/Downloads/Project IDMP/properties.csv\")"
   ]
  },
  {
   "cell_type": "code",
   "execution_count": 6,
   "id": "9fa9ff86-9d94-46f2-a841-6ecfe0c67718",
   "metadata": {},
   "outputs": [],
   "source": [
    "users_df = pd.read_csv(\"/Users/anish/Downloads/Project IDMP/users.csv\")"
   ]
  },
  {
   "cell_type": "code",
   "execution_count": 8,
   "id": "06cb5059-9577-4501-8030-ba2dde55e6fb",
   "metadata": {},
   "outputs": [],
   "source": [
    "amenities_df = pd.read_csv(\"/Users/anish/Downloads/Project IDMP/amenities.csv\")"
   ]
  },
  {
   "cell_type": "code",
   "execution_count": 10,
   "id": "b1874ee5-7b80-4019-9438-3afeefd3345f",
   "metadata": {},
   "outputs": [],
   "source": [
    "property_amenities_df = pd.read_csv(\"/Users/anish/Downloads/Project IDMP/property_amenities.csv\")"
   ]
  },
  {
   "cell_type": "code",
   "execution_count": 12,
   "id": "82354a5d-a072-4777-8d3e-d90757a28e02",
   "metadata": {},
   "outputs": [],
   "source": [
    "owners_df = pd.read_csv(\"/Users/anish/Downloads/Project IDMP/owners.csv\")"
   ]
  },
  {
   "cell_type": "code",
   "execution_count": 22,
   "id": "3888640c-a645-43cb-9d90-b5336de1dd5e",
   "metadata": {},
   "outputs": [],
   "source": [
    "reviews_df = pd.read_csv(\"/Users/anish/Downloads/Project IDMP/reviews (1).csv\")"
   ]
  },
  {
   "cell_type": "code",
   "execution_count": 24,
   "id": "0afdb9cd-d28b-453b-abaf-5b34e25f6eb0",
   "metadata": {},
   "outputs": [],
   "source": [
    "user_feedback_df = pd.read_csv(\"/Users/anish/Downloads/Project IDMP/feedback.csv\")"
   ]
  },
  {
   "cell_type": "code",
   "execution_count": 26,
   "id": "aca21be1-4732-41d1-bda8-72fbcc634fe1",
   "metadata": {},
   "outputs": [],
   "source": [
    "requests_df = pd.read_csv(\"/Users/anish/Downloads/Project IDMP/requests.csv\")"
   ]
  },
  {
   "cell_type": "code",
   "execution_count": 28,
   "id": "5a96a09e-0cd6-4a04-9d00-91d738155183",
   "metadata": {},
   "outputs": [],
   "source": [
    "transactions_df = pd.read_csv(\"/Users/anish/Downloads/Project IDMP/transactions.csv\")"
   ]
  },
  {
   "cell_type": "code",
   "execution_count": 30,
   "id": "4b6b5511-22d3-4e23-9320-1afd1d0ecbd3",
   "metadata": {},
   "outputs": [],
   "source": [
    "cancellations_df = pd.read_csv(\"/Users/anish/Downloads/Project IDMP/cancellations.csv\")"
   ]
  },
  {
   "cell_type": "code",
   "execution_count": 32,
   "id": "b278a2bf-b05c-4a0f-9313-1da24fbde689",
   "metadata": {},
   "outputs": [],
   "source": [
    "bookings_df = pd.read_csv(\"/Users/anish/Downloads/Project IDMP/bookings.csv\")"
   ]
  },
  {
   "cell_type": "markdown",
   "id": "a7e32b5f-5144-4d34-b99a-720d7d07e21c",
   "metadata": {},
   "source": [
    "## Section 3: Database Integration\n",
    "\n",
    "The following code defines a reusable function to insert data from a pandas DataFrame into MySQL tables."
   ]
  },
  {
   "cell_type": "code",
   "execution_count": 35,
   "id": "801df443-195a-4680-b2e4-2b6bf4a92b83",
   "metadata": {},
   "outputs": [],
   "source": [
    "def insert_dataframe(dataframe, table_name, database_config):\n",
    "    \"\"\"\n",
    "    Inserts a pandas DataFrame into a MySQL table.\n",
    "    \"\"\"\n",
    "    try:\n",
    "        # Connect to the MySQL database\n",
    "        conn = mysql.connector.connect(**database_config)\n",
    "        cursor = conn.cursor()\n",
    "        \n",
    "        # Build the insert query\n",
    "        columns = ', '.join(dataframe.columns)\n",
    "        placeholders = ', '.join(['%s'] * len(dataframe.columns)) #(%s) used as placeholder\n",
    "        query = f\"INSERT INTO {table_name} ({columns}) VALUES ({placeholders})\"\n",
    "        \n",
    "        # Insert each row in the DataFrame\n",
    "        for _, row in dataframe.iterrows():\n",
    "            cursor.execute(query, tuple(row))\n",
    "        \n",
    "        # Commit the changes\n",
    "        conn.commit()\n",
    "        print(f\"DataFrame inserted into the {table_name} table successfully.\")\n",
    "    \n",
    "    except Error as e:\n",
    "        print(f\"Error: {e}\")\n",
    "    finally:\n",
    "        # Close the connection\n",
    "        if conn.is_connected():\n",
    "            cursor.close()\n",
    "            conn.close()"
   ]
  },
  {
   "cell_type": "code",
   "execution_count": 37,
   "id": "69b4f3d7-0184-4dc4-bbba-d579b65a4ed3",
   "metadata": {},
   "outputs": [],
   "source": [
    "database_config = {\n",
    "    \"host\": \"localhost\",\n",
    "    \"user\": \"root\",\n",
    "    \"password\": \"$asukeUch1ha\",\n",
    "    \"database\": \"vacation_rentals\"\n",
    "}"
   ]
  },
  {
   "cell_type": "code",
   "execution_count": 55,
   "id": "61574533-39f3-4836-83a4-9fee05f003e9",
   "metadata": {},
   "outputs": [
    {
     "name": "stdout",
     "output_type": "stream",
     "text": [
      "DataFrame inserted into the Owners table successfully.\n"
     ]
    }
   ],
   "source": [
    "insert_dataframe(owners_df, \"Owners\", database_config)"
   ]
  },
  {
   "cell_type": "code",
   "execution_count": 57,
   "id": "04dc6726-f19f-4593-b927-1d7b3656e275",
   "metadata": {},
   "outputs": [
    {
     "name": "stdout",
     "output_type": "stream",
     "text": [
      "DataFrame inserted into the Properties table successfully.\n"
     ]
    }
   ],
   "source": [
    "insert_dataframe(properties_df, \"Properties\", database_config)"
   ]
  },
  {
   "cell_type": "code",
   "execution_count": 59,
   "id": "73b21306-7567-448f-bed4-e5dc0b24b582",
   "metadata": {},
   "outputs": [
    {
     "name": "stdout",
     "output_type": "stream",
     "text": [
      "DataFrame inserted into the Users table successfully.\n"
     ]
    }
   ],
   "source": [
    "insert_dataframe(users_df, \"Users\", database_config)"
   ]
  },
  {
   "cell_type": "code",
   "execution_count": 135,
   "id": "a75054a4-e9c1-4cbe-8e33-a2115dd3b6af",
   "metadata": {},
   "outputs": [
    {
     "name": "stdout",
     "output_type": "stream",
     "text": [
      "DataFrame inserted into the Amenities table successfully.\n"
     ]
    }
   ],
   "source": [
    "insert_dataframe(amenities_df, \"Amenities\", database_config)"
   ]
  },
  {
   "cell_type": "code",
   "execution_count": 147,
   "id": "779106c7-0353-4d9f-9996-03a1742cbced",
   "metadata": {},
   "outputs": [
    {
     "name": "stdout",
     "output_type": "stream",
     "text": [
      "DataFrame inserted into the Property_Amenities table successfully.\n"
     ]
    }
   ],
   "source": [
    "insert_dataframe(property_amenities_df, \"Property_Amenities\", database_config)"
   ]
  },
  {
   "cell_type": "code",
   "execution_count": 209,
   "id": "0d81ee89-adff-47fb-ab44-1cdb4a842b72",
   "metadata": {},
   "outputs": [
    {
     "name": "stdout",
     "output_type": "stream",
     "text": [
      "DataFrame inserted into the Reviews table successfully.\n"
     ]
    }
   ],
   "source": [
    "insert_dataframe(reviews_df, \"Reviews\", database_config)"
   ]
  },
  {
   "cell_type": "code",
   "execution_count": 163,
   "id": "b77abb7a-9e74-4a26-b664-fa16becbc82f",
   "metadata": {},
   "outputs": [
    {
     "name": "stdout",
     "output_type": "stream",
     "text": [
      "DataFrame inserted into the User_Feedback table successfully.\n"
     ]
    }
   ],
   "source": [
    "insert_dataframe(user_feedback_df, \"User_Feedback\", database_config)"
   ]
  },
  {
   "cell_type": "code",
   "execution_count": 224,
   "id": "fc924ab5-4c98-4bbc-bf08-9bf3ea2de683",
   "metadata": {},
   "outputs": [
    {
     "name": "stdout",
     "output_type": "stream",
     "text": [
      "DataFrame inserted into the Requests table successfully.\n"
     ]
    }
   ],
   "source": [
    "insert_dataframe(requests_df, \"Requests\", database_config)"
   ]
  },
  {
   "cell_type": "code",
   "execution_count": 185,
   "id": "c8fc88f8-5efd-4257-94f1-d47f78e1b197",
   "metadata": {},
   "outputs": [
    {
     "name": "stdout",
     "output_type": "stream",
     "text": [
      "Error: 1062 (23000): Duplicate entry '71660' for key 'bookings.PRIMARY'\n"
     ]
    }
   ],
   "source": [
    "insert_dataframe(bookings_df, \"Bookings\", database_config)"
   ]
  },
  {
   "cell_type": "code",
   "execution_count": 193,
   "id": "13a968a8-5eb3-49d2-9a5c-40e34c7d1872",
   "metadata": {},
   "outputs": [
    {
     "name": "stdout",
     "output_type": "stream",
     "text": [
      "DataFrame inserted into the Cancellations table successfully.\n"
     ]
    }
   ],
   "source": [
    "insert_dataframe(cancellations_df, \"Cancellations\", database_config)"
   ]
  },
  {
   "cell_type": "code",
   "execution_count": 197,
   "id": "dc2344f9-399f-41a5-b044-df24c7a2f43e",
   "metadata": {},
   "outputs": [
    {
     "name": "stdout",
     "output_type": "stream",
     "text": [
      "DataFrame inserted into the Transactions table successfully.\n"
     ]
    }
   ],
   "source": [
    "insert_dataframe(transactions_df, \"Transactions\", database_config)"
   ]
  },
  {
   "cell_type": "code",
   "execution_count": 189,
   "id": "fab681c5-afde-4325-83cd-644ecaa858a8",
   "metadata": {},
   "outputs": [],
   "source": [
    "# Connect to MySQL database\n",
    "conn = mysql.connector.connect(\n",
    "    host=\"localhost\",\n",
    "    user=\"root\",\n",
    "    password=\"$asukeUch1ha\",\n",
    "    database=\"vacation_rentals\"\n",
    ")\n",
    "\n",
    "cursor = conn.cursor()\n",
    "\n",
    "for _, row in bookings_df.iterrows():\n",
    "    try:\n",
    "        query = \"\"\"\n",
    "        INSERT IGNORE INTO Bookings (\n",
    "            booking_id, property_id, user_id, check_in_date, check_out_date, nights_booked, total_price, payment_method\n",
    "        ) VALUES (%s, %s, %s, %s, %s, %s, %s, %s)\n",
    "        \"\"\"\n",
    "        cursor.execute(query, (\n",
    "            row['booking_id'], \n",
    "            row['property_id'], \n",
    "            row['user_id'], \n",
    "            row['check_in_date'], \n",
    "            row['check_out_date'], \n",
    "            row['nights_booked'], \n",
    "            row['total_price'], \n",
    "            row['payment_method']\n",
    "        ))\n",
    "conn.commit()"
   ]
  },
  {
   "cell_type": "markdown",
   "id": "9a6cbb77-519c-49f6-81d6-f0b55f66620f",
   "metadata": {},
   "source": [
    "### Creating connection to the MySQL Database."
   ]
  },
  {
   "cell_type": "code",
   "execution_count": 39,
   "id": "4a6acf8a-3679-4bff-b58e-284f7e52ec57",
   "metadata": {},
   "outputs": [],
   "source": [
    "def create_connection():\n",
    "    \"\"\"\n",
    "    Function to connect to the MySQL Database\n",
    "    \"\"\"\n",
    "    return mysql.connector.connect(\n",
    "        host=\"localhost\",\n",
    "        user=\"root\",\n",
    "        password=\"$asukeUch1ha\",\n",
    "        database=\"vacation_rentals\"\n",
    "    )\n",
    "\n",
    "conn = create_connection()\n",
    "cursor = conn.cursor()"
   ]
  },
  {
   "cell_type": "code",
   "execution_count": 41,
   "id": "0d435db4-7b5e-4b41-9515-d7fa4afbb8c1",
   "metadata": {},
   "outputs": [],
   "source": [
    "def ensure_connection():\n",
    "    \"\"\"\n",
    "    Ensures the MySQL connection is active and reconnects if necessary.\n",
    "    \"\"\"\n",
    "    global conn, cursor\n",
    "    try:\n",
    "        if not conn.is_connected():\n",
    "            print(\"Reconnecting to the database...\")\n",
    "            conn = create_connection()\n",
    "            cursor = conn.cursor()\n",
    "    except mysql.connector.Error as e:\n",
    "        print(f\"Error while reconnecting to the database: {e}\")\n",
    "        exit(1)"
   ]
  },
  {
   "cell_type": "code",
   "execution_count": 43,
   "id": "a243bfa5-35e5-488f-b7de-f8fb0d0029aa",
   "metadata": {},
   "outputs": [],
   "source": [
    "def execute_query(query, params=None):\n",
    "    \"\"\"\n",
    "    Executes a query with optional parameters and ensures connection is active.\n",
    "    \"\"\"\n",
    "    try:\n",
    "        ensure_connection()\n",
    "        cursor.execute(query, params)\n",
    "    except mysql.connector.Error as e:\n",
    "        print(f\"Error executing query: {e}\")\n",
    "        ensure_connection()\n",
    "        cursor.execute(query, params)"
   ]
  },
  {
   "cell_type": "markdown",
   "id": "d4711878-1915-49b4-a4c7-43eda9548301",
   "metadata": {},
   "source": [
    "### Defining the Main Menu for login"
   ]
  },
  {
   "cell_type": "code",
   "execution_count": 46,
   "id": "5cf8777b-9d8f-4bf8-ab07-ca9288466611",
   "metadata": {},
   "outputs": [],
   "source": [
    "def main_menu():\n",
    "    \"\"\"\n",
    "    Main menu for the application.\n",
    "    \"\"\"\n",
    "    while True:\n",
    "        print(\"\\nWelcome to the Vacation Rental System\")\n",
    "        print(\"1. Owner Login\")\n",
    "        print(\"2. User Login\")\n",
    "        print(\"3. Exit\")\n",
    "        choice = input(\"Enter your choice: \")\n",
    "\n",
    "        if choice == '1':\n",
    "            owner_menu()\n",
    "        elif choice == '2':\n",
    "            user_menu()\n",
    "        elif choice == '3':\n",
    "            print(\"Goodbye!\")\n",
    "            cursor.close()\n",
    "            conn.close()\n",
    "            break\n",
    "        else:\n",
    "            print(\"Invalid choice. Please try again.\")"
   ]
  },
  {
   "cell_type": "markdown",
   "id": "0a2326cc-1e23-443b-855f-f15d9f8c0266",
   "metadata": {},
   "source": [
    "## Section 4: User Interface\n",
    "\n",
    "This section builds the main menu for users and provides options to log in, browse, and filter listings."
   ]
  },
  {
   "cell_type": "code",
   "execution_count": 49,
   "id": "58d0214a-af3b-4e57-934d-3cd896f21e0e",
   "metadata": {},
   "outputs": [],
   "source": [
    "def user_login():\n",
    "    \"\"\"\n",
    "    Handles user login or account creation.\n",
    "    \"\"\"\n",
    "    ensure_connection()\n",
    "\n",
    "    print(\"\\nUser Login\")\n",
    "    print(\"1. Log in with an existing User ID\")\n",
    "    print(\"2. Create a new account\")\n",
    "    choice = input(\"Enter your choice (1/2): \").strip()\n",
    "\n",
    "    if choice == '1':\n",
    "        user_id = input(\"Enter your User ID: \").strip()\n",
    "\n",
    "        try:\n",
    "            query = \"SELECT user_name FROM users WHERE user_id = %s\" #Fetch the user_name and user_id from the Users table\n",
    "            execute_query(query, (user_id,))\n",
    "            result = cursor.fetchone()\n",
    "\n",
    "            if result:\n",
    "                user_name = result[0]\n",
    "                print(f\"Welcome back, {user_name}! Your user ID is {user_id}.\")\n",
    "                return int(user_id)\n",
    "            else:\n",
    "                print(\"User ID not found. Please try again.\")\n",
    "                return user_login()\n",
    "        except mysql.connector.Error as e:\n",
    "            print(f\"Error during login: {e}\")\n",
    "\n",
    "    elif choice == '2':\n",
    "        return create_new_account()\n",
    "\n",
    "    else:\n",
    "        print(\"Invalid choice. Please try again.\")\n",
    "        return user_login()"
   ]
  },
  {
   "cell_type": "markdown",
   "id": "3e2da686-d72c-4683-b3a1-5822be6a3eb0",
   "metadata": {},
   "source": [
    "### New account creation"
   ]
  },
  {
   "cell_type": "code",
   "execution_count": 52,
   "id": "6f8704b6-e010-414d-b504-e6158d1d4735",
   "metadata": {},
   "outputs": [],
   "source": [
    "def create_new_account():\n",
    "    \"\"\"\n",
    "    Creates a new user account with a unique user_id, phone number, and default user rating.\n",
    "    \"\"\"\n",
    "    ensure_connection()\n",
    "\n",
    "    while True:\n",
    "        # Generate a unique user_id\n",
    "        user_id = random.randint(10000, 99999)\n",
    "        query = \"SELECT COUNT(*) FROM users WHERE user_id = %s\"\n",
    "        execute_query(query, (user_id,))\n",
    "        count = cursor.fetchone()[0] #Make sure that the user_id doesn't repeat\n",
    "\n",
    "        if count == 0:  # If the user_id is unique, proceed\n",
    "            break\n",
    "\n",
    "    user_name = input(\"Enter your name to create a new account: \").strip()\n",
    "\n",
    "    while True:\n",
    "        phone_number = input(\"Enter your phone number (digits only): \").strip()\n",
    "        if phone_number.isdigit() and len(phone_number) >= 10:\n",
    "            break\n",
    "        else:\n",
    "            print(\"Invalid phone number. Please enter a valid phone number.\")\n",
    "\n",
    "    # Default user rating to 3.0\n",
    "    user_rating = 3.0\n",
    "\n",
    "    try:\n",
    "        # Insert the new user into the database\n",
    "        query = \"\"\"\n",
    "            INSERT INTO users (user_id, user_name, phone_number, user_rating)\n",
    "            VALUES (%s, %s, %s, %s)\n",
    "        \"\"\"\n",
    "        execute_query(query, (user_id, user_name, phone_number, user_rating))\n",
    "        conn.commit()\n",
    "\n",
    "        print(f\"Welcome, {user_name}! Your new user ID is {user_id}.\")\n",
    "        return user_id\n",
    "    except mysql.connector.Error as e:\n",
    "        print(f\"Error: {e}\")"
   ]
  },
  {
   "cell_type": "markdown",
   "id": "1779962c-38ee-4474-a861-ed328beb1e58",
   "metadata": {},
   "source": [
    "### User Menu"
   ]
  },
  {
   "cell_type": "code",
   "execution_count": 55,
   "id": "86543103-fbc4-4f8d-93e2-0606c796d1df",
   "metadata": {},
   "outputs": [],
   "source": [
    "def user_menu():\n",
    "    \"\"\"\n",
    "    Menu for user functionalities.\n",
    "    \"\"\"\n",
    "    user_id = user_login()\n",
    "    while True:\n",
    "        print(\"\\nUser Menu\")\n",
    "        print(f\"Logged in as User ID: {user_id}\")\n",
    "        print(\"1. Browse Listings\")\n",
    "        print(\"2. Filter Listings\")\n",
    "        print(\"3. Leave a Review\")\n",
    "        print(\"4. View Property Reviews\")\n",
    "        print(\"5. Logout\")\n",
    "        choice = input(\"Enter your choice: \")\n",
    "\n",
    "        if choice == '1':\n",
    "            browse_listings()\n",
    "        elif choice == '2':\n",
    "            filter_listings(user_id)\n",
    "        elif choice == '3':\n",
    "            leave_review(user_id)\n",
    "        elif choice == '4':\n",
    "            view_reviews()\n",
    "        elif choice == '5':\n",
    "            print(\"Logging out... Goodbye!\")\n",
    "            break\n",
    "        else:\n",
    "            print(\"Invalid choice. Please try again.\")"
   ]
  },
  {
   "cell_type": "markdown",
   "id": "06a57418-0417-448c-aade-fb0fc9cf9159",
   "metadata": {},
   "source": [
    "### Browse all listings"
   ]
  },
  {
   "cell_type": "code",
   "execution_count": 58,
   "id": "350b1d6c-db8b-4b03-8b82-35348dddc159",
   "metadata": {},
   "outputs": [],
   "source": [
    "def browse_listings():\n",
    "    \"\"\"\n",
    "    View all listings on the platform, showing availability based on bookings.\n",
    "    \"\"\"\n",
    "    ensure_connection()\n",
    "\n",
    "    # SQL query to check availability based on bookings\n",
    "    query = \"\"\"\n",
    "        SELECT \n",
    "            p.property_id, \n",
    "            p.name, \n",
    "            p.location,\n",
    "            p.room_type, \n",
    "            p.listing_price,\n",
    "            CASE \n",
    "                WHEN EXISTS (\n",
    "                    SELECT 1 \n",
    "                    FROM bookings b \n",
    "                    WHERE b.property_id = p.property_id \n",
    "                      AND CURDATE() BETWEEN b.check_in_date AND b.check_out_date\n",
    "                ) THEN 'Not Available'\n",
    "                ELSE 'Available Right Now!'\n",
    "            END AS availability_status\n",
    "        FROM Properties AS p\n",
    "    \"\"\"\n",
    "    \n",
    "    try:\n",
    "        execute_query(query)\n",
    "        results = cursor.fetchall()\n",
    "\n",
    "        if results:\n",
    "            print(\"\\nAvailable Listings:\")\n",
    "            print(f\"{'Property ID':<7} {'Name':<30} {'Location':<10} {'Room Type':<10} {'Listing Price':<5} {'Status':<15}\")\n",
    "            print(\"-\" * 95)\n",
    "\n",
    "            # Display each listing\n",
    "            for row in results:\n",
    "                property_id, name, location, room_type, listing_price, status = row\n",
    "                print(f\"{property_id:<12} {name:<20} {location:<15} {room_type:<15} ${listing_price:<14.2f} {status:<10}\")\n",
    "        else:\n",
    "            print(\"\\nNo listings available at the moment.\")\n",
    "    except mysql.connector.Error as e:\n",
    "        print(f\"Error fetching listings: {e}\")"
   ]
  },
  {
   "cell_type": "markdown",
   "id": "09cdcb9c-53f1-46ad-8b40-599ae8e7467a",
   "metadata": {},
   "source": [
    "### Filter Listings Based on Price and Location"
   ]
  },
  {
   "cell_type": "code",
   "execution_count": 61,
   "id": "fb40c92d-8452-4416-a6c5-7db73b71fa1c",
   "metadata": {},
   "outputs": [],
   "source": [
    "def filter_listings(user_id):\n",
    "    \"\"\"\n",
    "    Filters listings based on maximum price and location.\n",
    "    Displays availability information and allows booking directly.\n",
    "    \"\"\"\n",
    "    try:\n",
    "        # Get user input for filters\n",
    "        max_price = float(input(\"Enter the maximum price per night: \"))\n",
    "        location = input(\"What is your desired location (leave blank for all locations): \").strip()\n",
    "\n",
    "        # Fetch filtered listings\n",
    "        listings = fetch_filtered_listings(max_price, location)\n",
    "\n",
    "        if not listings:\n",
    "            print(\"Oops! No listings match the specified criteria.\")\n",
    "            return\n",
    "\n",
    "        # Display filtered listings with availability\n",
    "        print(\"\\nFiltered Listings:\")\n",
    "        for idx, (property_id, name, price, loc) in enumerate(listings, start=1):\n",
    "            # Fetch availability information\n",
    "            availability_info = fetch_availability_info(property_id)\n",
    "            \n",
    "            # Display listing details\n",
    "            print(f\"{idx}. Property ID: {property_id}, Name: {name or 'No name'}, \"\n",
    "                  f\"Price: ${price:.2f}, Location: {loc or 'No location'}\")\n",
    "            print(f\"   Availability: {availability_info}\")\n",
    "            print(\"-\" * 50)\n",
    "\n",
    "        # Allow user to select a property to book\n",
    "        selection = get_user_selection(len(listings))\n",
    "        if selection == 0:\n",
    "            print(\"Exiting to main menu.\")\n",
    "            return\n",
    "\n",
    "        # Process booking\n",
    "        selected_property = listings[selection - 1]\n",
    "        handle_booking(user_id, selected_property) \n",
    "\n",
    "    except mysql.connector.Error as e:\n",
    "        print(f\"Database error: {e}\")\n",
    "    except ValueError:\n",
    "        print(\"Invalid input. Please enter valid data.\")"
   ]
  },
  {
   "cell_type": "code",
   "execution_count": 63,
   "id": "a3ca5d28-bbfe-4740-8a89-3cd818abe766",
   "metadata": {},
   "outputs": [],
   "source": [
    "def fetch_filtered_listings(max_price, location):\n",
    "    \"\"\"Fetches filtered listings based on price and location.\"\"\"\n",
    "    query = \"\"\"\n",
    "        SELECT DISTINCT p.property_id, p.name, p.listing_price, p.location\n",
    "        FROM properties p\n",
    "        WHERE p.listing_price <= %s\n",
    "    \"\"\"\n",
    "    params = [max_price]\n",
    "\n",
    "    if location:\n",
    "        query += \" AND p.location = %s\"\n",
    "        params.append(location)\n",
    "\n",
    "    execute_query(query, tuple(params))\n",
    "    return cursor.fetchall()"
   ]
  },
  {
   "cell_type": "code",
   "execution_count": 65,
   "id": "efacdeaf-cae9-4e24-920e-0c5783546b69",
   "metadata": {},
   "outputs": [],
   "source": [
    "def display_listings(listings):\n",
    "    \"\"\"Displays the listings to the user.\"\"\"\n",
    "    print(\"\\nFiltered Listings:\")\n",
    "    for idx, (property_id, name, price, loc) in enumerate(listings, start=1):\n",
    "        print(f\"{idx}. Property ID: {property_id}, Name: {name or 'No name'}, \"\n",
    "              f\"Price: ${price:.2f}, Location: {loc or 'No location'}\")"
   ]
  },
  {
   "cell_type": "code",
   "execution_count": 67,
   "id": "9e892bcd-5f4c-4591-a864-1f0b3168c86e",
   "metadata": {},
   "outputs": [],
   "source": [
    "def get_user_selection(num_listings):\n",
    "    \"\"\"Gets the user's selection for a listing.\"\"\"\n",
    "    while True:\n",
    "        try:\n",
    "            selection = int(input(\"\\nEnter the number of the property you want to book, or 0 to exit: \"))\n",
    "            if 0 <= selection <= num_listings:\n",
    "                return selection\n",
    "            print(f\"Invalid input. Please select a number between 0 and {num_listings}.\")\n",
    "        except ValueError:\n",
    "            print(\"Invalid input. Please enter a number.\")"
   ]
  },
  {
   "cell_type": "code",
   "execution_count": 69,
   "id": "b276b6d6-b3f1-4bb0-9497-49226e9c6cc5",
   "metadata": {},
   "outputs": [],
   "source": [
    "def handle_booking(user_id, selected_property):\n",
    "    \"\"\"Handles booking for the selected property.\"\"\"\n",
    "    property_id, name, price, loc = selected_property\n",
    "\n",
    "    check_in_date = input(\"Enter Check-in Date (YYYY-MM-DD): \").strip()\n",
    "    check_out_date = input(\"Enter Check-out Date (YYYY-MM-DD): \").strip()\n",
    "\n",
    "    # Validate booking dates\n",
    "    check_in, check_out = validate_dates(check_in_date, check_out_date)\n",
    "    if not check_in or not check_out:\n",
    "        return\n",
    "\n",
    "    # Check availability for the selected dates\n",
    "    if not is_property_available(property_id, check_in_date, check_out_date):\n",
    "        print(\"We're sorry. The property is not available for the selected date range.\")\n",
    "        return\n",
    "\n",
    "    # Get the owner of the property\n",
    "    owner_id = get_owner_id(property_id)\n",
    "    if not owner_id:\n",
    "        print(\"Property not found.\")\n",
    "        return\n",
    "\n",
    "    # Create the booking request (request_id is auto-incremented by the database)\n",
    "    create_booking_request(user_id, property_id, owner_id, check_in_date, check_out_date)"
   ]
  },
  {
   "cell_type": "code",
   "execution_count": 71,
   "id": "163687f0-787f-4e69-ab18-09a655149ff9",
   "metadata": {},
   "outputs": [],
   "source": [
    "def validate_dates(check_in_date, check_out_date):\n",
    "    \"\"\"Validates the check-in and check-out dates.\"\"\"\n",
    "    try:\n",
    "        check_in = datetime.strptime(check_in_date, \"%Y-%m-%d\")\n",
    "        check_out = datetime.strptime(check_out_date, \"%Y-%m-%d\")\n",
    "        if check_in >= check_out:\n",
    "            print(\"Check-out date must be after check-in date.\")\n",
    "            return None, None\n",
    "        return check_in, check_out\n",
    "    except ValueError:\n",
    "        print(\"Invalid date format. Please use YYYY-MM-DD.\")\n",
    "        return None, None"
   ]
  },
  {
   "cell_type": "code",
   "execution_count": 73,
   "id": "f297bd24-02cb-4388-b971-002b306f742b",
   "metadata": {},
   "outputs": [],
   "source": [
    "def is_property_available(property_id, check_in_date, check_out_date):\n",
    "    \"\"\"Checks if a property is available for the specified date range.\"\"\"\n",
    "    query = \"\"\"\n",
    "        SELECT COUNT(*)\n",
    "        FROM bookings\n",
    "        WHERE property_id = %s\n",
    "        AND (check_in_date < %s AND check_out_date > %s)\n",
    "    \"\"\"\n",
    "    execute_query(query, (property_id, check_out_date, check_in_date))\n",
    "    return cursor.fetchone()[0] == 0"
   ]
  },
  {
   "cell_type": "code",
   "execution_count": 75,
   "id": "3631591f-aa20-4f32-9ee1-159a293c478d",
   "metadata": {},
   "outputs": [],
   "source": [
    "def get_owner_id(property_id):\n",
    "    \"\"\"Fetches the owner ID for a given property.\"\"\"\n",
    "    query = \"SELECT owner_id FROM properties WHERE property_id = %s\"\n",
    "    execute_query(query, (property_id,))\n",
    "    result = cursor.fetchone()\n",
    "    return result[0] if result else None"
   ]
  },
  {
   "cell_type": "code",
   "execution_count": 77,
   "id": "64f03374-6507-4e78-acce-0ad797b2adc4",
   "metadata": {},
   "outputs": [],
   "source": [
    "def create_booking_request(user_id, property_id, owner_id, check_in_date, check_out_date):\n",
    "    \"\"\"\n",
    "    Inserts a booking request into the requests table.\n",
    "    MySQL auto-generates the request_id as it is an AUTO_INCREMENT column.\n",
    "    \"\"\"\n",
    "    query = \"\"\"\n",
    "        INSERT INTO requests (user_id, property_id, owner_id, check_in_date, check_out_date, status)\n",
    "        VALUES (%s, %s, %s, %s, %s, 'Pending')\n",
    "    \"\"\"\n",
    "    execute_query(query, (user_id, property_id, owner_id, check_in_date, check_out_date))\n",
    "    conn.commit()\n",
    "\n",
    "    # Fetch the auto-generated request_id\n",
    "    request_id = cursor.lastrowid\n",
    "    print(f\"Booking request sent successfully. Request ID: {request_id}\")"
   ]
  },
  {
   "cell_type": "code",
   "execution_count": 79,
   "id": "cfaf58b4-c4ce-4e07-b763-730404321dad",
   "metadata": {},
   "outputs": [],
   "source": [
    "def fetch_availability_info(property_id):\n",
    "    \"\"\"\n",
    "    Fetches availability information for a property from the bookings table.\n",
    "    Returns a formatted string with availability dates or a message if always available.\n",
    "    \"\"\"\n",
    "    query = \"\"\"\n",
    "        SELECT check_in_date, check_out_date\n",
    "        FROM bookings\n",
    "        WHERE property_id = %s\n",
    "        ORDER BY check_in_date\n",
    "    \"\"\"\n",
    "    execute_query(query, (property_id,))\n",
    "    results = cursor.fetchall()\n",
    "\n",
    "    if not results:\n",
    "        return \"Always Available\"\n",
    "\n",
    "    # Format availability information\n",
    "    availability = [f\"Unavailable from {row[0]} to {row[1]}\" for row in results]\n",
    "    return \"; \".join(availability)"
   ]
  },
  {
   "cell_type": "markdown",
   "id": "a1151aad-1376-4bb8-8557-eba143b71870",
   "metadata": {},
   "source": [
    "### View Property Reviews"
   ]
  },
  {
   "cell_type": "code",
   "execution_count": 82,
   "id": "3658817f-6235-4833-b8fe-0d9f655cff46",
   "metadata": {},
   "outputs": [],
   "source": [
    "def view_reviews():\n",
    "    \"\"\"\n",
    "    Allows the user to view reviews for a specific property.\n",
    "    \"\"\"\n",
    "    try:\n",
    "        # Prompt user for a property ID\n",
    "        property_id = input(\"Enter the Property ID to view reviews: \").strip()\n",
    "\n",
    "        # Fetch reviews for the property\n",
    "        query = \"\"\"\n",
    "            SELECT r.review_id, r.property_id, u.user_name, r.review_date, r.comments,\n",
    "                   r.rating_cleanliness, r.rating_host, r.rating_location, r.rating_overall\n",
    "            FROM reviews r\n",
    "            INNER JOIN users u ON r.user_id = u.user_id\n",
    "            WHERE r.property_id = %s\n",
    "            ORDER BY r.review_date DESC;\n",
    "        \"\"\"\n",
    "        reviews_df = pd.read_sql(query, conn, params=(property_id,))\n",
    "\n",
    "        # Check if there are any reviews\n",
    "        if reviews_df.empty:\n",
    "            print(f\"No reviews found for Property ID {property_id}.\")\n",
    "            return\n",
    "\n",
    "        # Display reviews\n",
    "        print(f\"\\nReviews for Property ID {property_id}:\")\n",
    "        for _, row in reviews_df.iterrows():\n",
    "            print(f\"\\nReview ID: {row['review_id']}\")\n",
    "            print(f\"User: {row['user_name']} | Date: {row['review_date']}\")\n",
    "            print(f\"Cleanliness: {row['rating_cleanliness']} | Host: {row['rating_host']} \"\n",
    "                  f\"| Location: {row['rating_location']} | Overall: {row['rating_overall']}\")\n",
    "            print(f\"Comments: {row['comments']}\\n{'-' * 40}\")\n",
    "    except Exception as e:\n",
    "        print(f\"Error fetching reviews: {e}\")"
   ]
  },
  {
   "cell_type": "markdown",
   "id": "835cc98c-334c-44cd-bb4c-839d67ff5114",
   "metadata": {},
   "source": [
    "### Reviewing the Property"
   ]
  },
  {
   "cell_type": "code",
   "execution_count": 85,
   "id": "e3a426cc-85cc-4eec-b80d-7682c67c4beb",
   "metadata": {},
   "outputs": [],
   "source": [
    "def leave_review(user_id):\n",
    "    \"\"\"\n",
    "    Allows a user to leave a review for a property they've visited.\n",
    "    \"\"\"\n",
    "    try:\n",
    "        # Step 1: The query joins bookings and properties too fetch the properties that the user has visited.\n",
    "        query = \"\"\"\n",
    "            SELECT DISTINCT b.property_id, p.name\n",
    "            FROM bookings b\n",
    "            JOIN properties p ON b.property_id = p.property_id\n",
    "            WHERE b.user_id = %s\n",
    "        \"\"\"\n",
    "        execute_query(query, (user_id,))\n",
    "        visited_properties = cursor.fetchall()\n",
    "\n",
    "        if not visited_properties:\n",
    "            print(\"It seems you haven’t visited any properties yet. You need to book a stay before leaving a review.\")\n",
    "            return\n",
    "\n",
    "        print(\"\\nHere are the properties you've visited:\")\n",
    "        for idx, (property_id, name) in enumerate(visited_properties, start=1):\n",
    "            print(f\"{idx}. {name or 'Unnamed Property'} (Property ID: {property_id})\")\n",
    "\n",
    "        # Step 2: User selects a property to review\n",
    "        while True:\n",
    "            try:\n",
    "                selection = int(input(\"Enter the number of the property you'd like to review (or 0 to exit): \"))\n",
    "                if selection == 0:\n",
    "                    print(\"No worries! Come back when you're ready to leave a review.\")\n",
    "                    return\n",
    "                if 1 <= selection <= len(visited_properties):\n",
    "                    property_id = visited_properties[selection - 1][0] #Adjusting for zero index\n",
    "                    break\n",
    "                print(\"Invalid selection. Please choose a valid number.\")\n",
    "            except ValueError:\n",
    "                print(\"Please enter a valid number.\")\n",
    "\n",
    "        # Step 3: Collect review details\n",
    "        review_date = input(\"When did you visit this property? (YYYY-MM-DD): \").strip()\n",
    "        try:\n",
    "            datetime.strptime(review_date, \"%Y-%m-%d\")\n",
    "        except ValueError:\n",
    "            print(\"Invalid date format. Use YYYY-MM-DD.\")\n",
    "            return\n",
    "\n",
    "        comments = input(\"How was your stay? (Feel free to share your thoughts): \").strip()\n",
    "\n",
    "        print(\"\\nLet’s rate your experience!\")\n",
    "        cleanliness = get_rating(\"Cleanliness\")\n",
    "        host = get_rating(\"Host\")\n",
    "        location = get_rating(\"Location\")\n",
    "\n",
    "        # Calculate overall rating\n",
    "        overall_rating = round((cleanliness + host + location) / 3, 2)\n",
    "\n",
    "        # Step 4: Insert the review into the database\n",
    "        query = \"\"\"\n",
    "            INSERT INTO reviews (\n",
    "                property_id, user_id, review_date, comments, rating_cleanliness,\n",
    "                rating_host, rating_location, rating_overall\n",
    "            )\n",
    "            VALUES (%s, %s, %s, %s, %s, %s, %s, %s)\n",
    "        \"\"\"\n",
    "        execute_query(query, (\n",
    "            property_id, user_id, review_date, comments,\n",
    "            cleanliness, host, location, overall_rating\n",
    "        ))\n",
    "        conn.commit()\n",
    "\n",
    "        review_id = cursor.lastrowid\n",
    "        print(f\"\\nThank you for your feedback! Your review has been successfully submitted.\")\n",
    "    except mysql.connector.Error as e:\n",
    "        print(f\"Oops, there was an issue submitting your review: {e}\")\n",
    "    except Exception as e:\n",
    "        print(f\"Something went wrong: {e}\")"
   ]
  },
  {
   "cell_type": "code",
   "execution_count": 87,
   "id": "2bcbe7c0-a2df-4b48-a939-9c1be6cf7e89",
   "metadata": {},
   "outputs": [],
   "source": [
    "def get_rating(category):\n",
    "    \"\"\"\n",
    "    Prompt the user to provide a rating between 0 and 5.\n",
    "    \"\"\"\n",
    "    while True:\n",
    "        try:\n",
    "            rating = float(input(f\"Rate {category} (0-5): \"))\n",
    "            if 0 <= rating <= 5:\n",
    "                return rating\n",
    "            print(\"Please enter a rating between 0 and 5.\")\n",
    "        except ValueError:\n",
    "            print(\"Invalid input. Please enter a number.\")"
   ]
  },
  {
   "cell_type": "markdown",
   "id": "83afbe05-94ab-44cf-9b7e-b9080e0baea0",
   "metadata": {},
   "source": [
    "## Section 5: Owner Interface\n",
    "\n",
    "Allows property owners to create, update, and delete listings, as well as manage booking requests."
   ]
  },
  {
   "cell_type": "markdown",
   "id": "00889578-5fab-40ab-8490-4088c3ebb633",
   "metadata": {},
   "source": [
    "### Owner Login"
   ]
  },
  {
   "cell_type": "code",
   "execution_count": 91,
   "id": "90a5334b-8616-4da5-9e39-a57d2806da90",
   "metadata": {},
   "outputs": [],
   "source": [
    "def owner_login():\n",
    "    \"\"\"\n",
    "    Handles owner login or account creation.\n",
    "    \"\"\"\n",
    "    ensure_connection()\n",
    "\n",
    "    print(\"\\nOwner Login\")\n",
    "    print(\"1. Log in with an existing Owner ID\")\n",
    "    print(\"2. Create a new account\")\n",
    "    choice = input(\"Enter your choice (1/2): \").strip()\n",
    "\n",
    "    if choice == '1':\n",
    "        # Log in with existing Owner ID\n",
    "        owner_id = input(\"Enter your Owner ID: \").strip()\n",
    "\n",
    "        try:\n",
    "            query = \"SELECT owner_name FROM owners WHERE owner_id = %s\"\n",
    "            execute_query(query, (owner_id,))\n",
    "            result = cursor.fetchone()\n",
    "\n",
    "            if result:\n",
    "                owner_name = result[0]\n",
    "                print(f\"Welcome back, {owner_name}! Your owner ID is {owner_id}.\")\n",
    "                return int(owner_id)\n",
    "            else:\n",
    "                print(\"Owner ID not found. Please try again.\")\n",
    "                return owner_login()\n",
    "        except mysql.connector.Error as e:\n",
    "            print(f\"Error during login: {e}\")\n",
    "\n",
    "    elif choice == '2':\n",
    "        # Create a new account\n",
    "        return create_new_owner_account()\n",
    "\n",
    "    else:\n",
    "        print(\"Invalid choice. Please try again.\")\n",
    "        return owner_login()"
   ]
  },
  {
   "cell_type": "markdown",
   "id": "19f0d35d-04ad-4ef3-917e-ed68c34531af",
   "metadata": {},
   "source": [
    "## New account creation"
   ]
  },
  {
   "cell_type": "code",
   "execution_count": 94,
   "id": "9aad0b56-17ad-4ece-b45f-2694b0965684",
   "metadata": {},
   "outputs": [],
   "source": [
    "def create_new_owner_account():\n",
    "    \"\"\"\n",
    "    Creates a new owner account with an email address as contact information.\n",
    "    \"\"\"\n",
    "    ensure_connection()\n",
    "\n",
    "    while True:\n",
    "        owner_id = random.randint(1000, 99999)\n",
    "        # Check if the generated owner_id already exists in the database\n",
    "        query = \"SELECT COUNT(*) FROM owners WHERE owner_id = %s\"\n",
    "        execute_query(query, (owner_id,))\n",
    "        count = cursor.fetchone()[0]\n",
    "\n",
    "        if count == 0:  # If the ID is unique, proceed\n",
    "            break\n",
    "\n",
    "    owner_name = input(\"Enter your name to create a new account: \").strip()\n",
    "    contact_info = input(\"Enter your email address: \").strip()\n",
    "\n",
    "    try:\n",
    "        #This query inserts the owners details provided in the owners table\n",
    "        query = \"\"\"\n",
    "            INSERT INTO owners (owner_id, owner_name, contact_info)\n",
    "            VALUES (%s, %s, %s)\n",
    "        \"\"\"\n",
    "        execute_query(query, (owner_id, owner_name, contact_info))\n",
    "        conn.commit()\n",
    "        print(f\"Welcome, {owner_name}! Your new owner ID is {owner_id}.\")\n",
    "        return owner_id\n",
    "    except mysql.connector.Error as e:\n",
    "        print(f\"Error: {e}\")"
   ]
  },
  {
   "cell_type": "markdown",
   "id": "45d6d019-e35f-4feb-aabe-2aa7c489d38b",
   "metadata": {},
   "source": [
    "## Owner Menu"
   ]
  },
  {
   "cell_type": "code",
   "execution_count": 97,
   "id": "81ec32fa-b2a9-4cb4-99ac-56e3a2a1b470",
   "metadata": {},
   "outputs": [],
   "source": [
    "def owner_menu():\n",
    "    \"\"\"\n",
    "    Menu for owner functionalities.\n",
    "    \"\"\"\n",
    "    owner_id = owner_login()  # Login or create an account\n",
    "    while True:\n",
    "        print(\"\\nOwner Menu\")\n",
    "        print(f\"Logged in as Owner ID: {owner_id}\")\n",
    "        print(\"1. Create New Listing\")\n",
    "        print(\"2. Update Listing\")\n",
    "        print(\"3. Delete Listing\")\n",
    "        print(\"4. Manage Booking Requests\")\n",
    "        print(\"5. Logout\")\n",
    "        choice = input(\"Enter your choice: \")\n",
    "\n",
    "        if choice == '1':\n",
    "            create_listing(owner_id)\n",
    "        elif choice == '2':\n",
    "            update_listing(owner_id)\n",
    "        elif choice == '3':\n",
    "            delete_listing(owner_id)\n",
    "        elif choice == '4':\n",
    "            view_and_manage_requests(owner_id)\n",
    "        elif choice == '5':\n",
    "            print(\"Logging out...\")\n",
    "            break\n",
    "        else:\n",
    "            print(\"Invalid choice. Please try again.\")"
   ]
  },
  {
   "cell_type": "markdown",
   "id": "1e894f85-88e7-42f1-9a53-e277ebd15758",
   "metadata": {},
   "source": [
    "## Create New Listing"
   ]
  },
  {
   "cell_type": "code",
   "execution_count": 100,
   "id": "ef5d4dd4-fc6a-4f03-ae56-039d294bed05",
   "metadata": {},
   "outputs": [],
   "source": [
    "def create_listing(owner_id):\n",
    "    \"\"\"\n",
    "    Creates a new listing for the owner and associates amenities from a separate table.\n",
    "    \"\"\"\n",
    "    try:\n",
    "        # Generate a unique property ID\n",
    "        while True:\n",
    "            property_id = random.randint(10000, 99999)\n",
    "            query = \"SELECT COUNT(*) FROM properties WHERE property_id = %s\"\n",
    "            execute_query(query, (property_id,))\n",
    "            count = cursor.fetchone()[0]\n",
    "            if count == 0:  # Ensure property_id is unique\n",
    "                break\n",
    "\n",
    "        # Collect property details\n",
    "        name = input(\"Enter Property Name: \")\n",
    "        location = input(\"Enter Location: \")\n",
    "        room_type = input(\"Enter Room Type: \")\n",
    "        listing_price = float(input(\"Enter Listing Price: \"))\n",
    "        occupancy_rate = 0.0  # Default occupancy rate\n",
    "\n",
    "        # Insert property details into the properties table\n",
    "        property_query = \"\"\"\n",
    "            INSERT INTO properties (property_id, name, owner_id, location, room_type, listing_price, occupancy_rate)\n",
    "            VALUES (%s, %s, %s, %s, %s, %s, %s)\n",
    "        \"\"\"\n",
    "        execute_query(property_query, (property_id, name, owner_id, location, room_type, listing_price, occupancy_rate))\n",
    "        conn.commit()\n",
    "        print(f\"Property '{name}' created successfully with Property ID: {property_id}.\")\n",
    "\n",
    "        # Associate amenities (this part remains the same)\n",
    "        print(\"\\nNow, let's add amenities to your property.\")\n",
    "        existing_amenities = fetch_existing_amenities()\n",
    "\n",
    "        if existing_amenities:\n",
    "            print(\"\\nExisting Amenities:\")\n",
    "            for idx, amenity in enumerate(existing_amenities, start=1):\n",
    "                print(f\"{idx}. {amenity[1]} (Amenity ID: {amenity[0]})\")\n",
    "        else:\n",
    "            print(\"\\nNo existing amenities found. You will need to add new ones.\")\n",
    "\n",
    "        selected_amenities = select_amenities(existing_amenities)\n",
    "        insert_property_amenities(property_id, selected_amenities)\n",
    "\n",
    "    except mysql.connector.Error as e:\n",
    "        print(f\"Error: {e}\")\n",
    "    except ValueError:\n",
    "        print(\"Invalid input. Please try again.\")"
   ]
  },
  {
   "cell_type": "code",
   "execution_count": 102,
   "id": "71345f6d-ec33-4d61-b05e-4244f97aafec",
   "metadata": {},
   "outputs": [],
   "source": [
    "def fetch_existing_amenities():\n",
    "    \"\"\"Fetches all existing amenities from the amenities table.\"\"\"\n",
    "    query = \"SELECT amenity_id, amenity_name FROM amenities\"\n",
    "    execute_query(query)\n",
    "    return cursor.fetchall()"
   ]
  },
  {
   "cell_type": "code",
   "execution_count": 104,
   "id": "c36e3555-32dc-4c21-97de-5fe9f859ad89",
   "metadata": {},
   "outputs": [],
   "source": [
    "def select_amenities(existing_amenities):\n",
    "    \"\"\"Prompts the user to select amenities or add new ones.\"\"\"\n",
    "    selected_amenities = []\n",
    "\n",
    "    # Allow user to select from existing amenities\n",
    "    if existing_amenities:\n",
    "        while True:\n",
    "            selection = input(\"\\nEnter the number of an amenity to add (or 'done' to finish): \").strip()\n",
    "            if selection.lower() == \"done\":\n",
    "                break\n",
    "            try:\n",
    "                idx = int(selection) - 1\n",
    "                if 0 <= idx < len(existing_amenities):\n",
    "                    selected_amenities.append(existing_amenities[idx][0])  # Add amenity_id\n",
    "                    print(f\"Amenity '{existing_amenities[idx][1]}' added.\")\n",
    "                else:\n",
    "                    print(\"Invalid selection. Please choose a valid number.\")\n",
    "            except ValueError:\n",
    "                print(\"Invalid input. Please enter a number or 'done'.\")\n",
    "\n",
    "    # Allow user to add new amenities\n",
    "    while True:\n",
    "        new_amenity = input(\"\\nEnter a new amenity to add (or 'done' to finish): \").strip()\n",
    "        if new_amenity.lower() == \"done\":\n",
    "            break\n",
    "        amenity_id = add_new_amenity(new_amenity)\n",
    "        selected_amenities.append(amenity_id)\n",
    "        print(f\"New amenity '{new_amenity}' added with Amenity ID: {amenity_id}.\")\n",
    "\n",
    "    return selected_amenities"
   ]
  },
  {
   "cell_type": "code",
   "execution_count": 106,
   "id": "9674b2ea-b5ff-4e73-a150-b3ba1a6b9279",
   "metadata": {},
   "outputs": [],
   "source": [
    "def add_new_amenity(amenity_name):\n",
    "    \"\"\"Inserts a new amenity into the amenities table and returns its ID.\"\"\"\n",
    "    query = \"INSERT INTO amenities (amenity_name) VALUES (%s)\"\n",
    "    execute_query(query, (amenity_name,))\n",
    "    conn.commit()\n",
    "    return cursor.lastrowid  # Fetch the auto-generated amenity_id"
   ]
  },
  {
   "cell_type": "code",
   "execution_count": 108,
   "id": "d3ee9d5f-5994-46e1-8245-5a7a547f3bc6",
   "metadata": {},
   "outputs": [],
   "source": [
    "def insert_property_amenities(property_id, amenity_ids):\n",
    "    \"\"\"Links the property with the selected amenities.\"\"\"\n",
    "    query = \"INSERT INTO property_amenities (property_id, amenity_id) VALUES (%s, %s)\"\n",
    "    for amenity_id in amenity_ids:\n",
    "        execute_query(query, (property_id, amenity_id))\n",
    "    conn.commit()\n",
    "    print(f\"Amenities successfully linked to Property ID: {property_id}.\")"
   ]
  },
  {
   "cell_type": "markdown",
   "id": "e0a700ad-ce21-43b6-8dd7-1a741fea9552",
   "metadata": {},
   "source": [
    "## Update Listing"
   ]
  },
  {
   "cell_type": "code",
   "execution_count": 111,
   "id": "71f5fcf9-c13c-4ae5-827a-1ece77e6e13b",
   "metadata": {},
   "outputs": [],
   "source": [
    "def update_listing(owner_id):\n",
    "    \"\"\"\n",
    "    Displays all properties owned by the owner and allows updates to specific fields.\n",
    "    Excludes amenities from the update options.\n",
    "    \"\"\"\n",
    "    try:\n",
    "        # Step 1: Fetch and display all properties owned by the owner\n",
    "        query = \"SELECT property_id, name, location, room_type, listing_price FROM properties WHERE owner_id = %s\"\n",
    "        execute_query(query, (owner_id,))\n",
    "        properties = cursor.fetchall()\n",
    "\n",
    "        if not properties:\n",
    "            print(\"You do not own any properties. Please add a property first.\")\n",
    "            return\n",
    "\n",
    "        print(\"\\nYour Properties:\")\n",
    "        for idx, (property_id, name, location, room_type, listing_price) in enumerate(properties, start=1):\n",
    "            print(f\"{idx}. Property ID: {property_id}, Name: {name}, Location: {location}, \"\n",
    "                  f\"Room Type: {room_type}, Listing Price: ${listing_price:.2f}\")\n",
    "\n",
    "        # Step 2: Allow the owner to select a property to update\n",
    "        try:\n",
    "            selection = int(input(\"\\nEnter the number of the property you want to update (or 0 to cancel): \"))\n",
    "            if selection == 0:\n",
    "                print(\"No updates made. Exiting.\")\n",
    "                return\n",
    "\n",
    "            if 1 <= selection <= len(properties):\n",
    "                property_id = properties[selection - 1][0]  # Get the selected property's ID\n",
    "            else:\n",
    "                print(\"Invalid selection. Please choose a valid property number.\")\n",
    "                return\n",
    "        except ValueError:\n",
    "            print(\"Invalid input. Please enter a number.\")\n",
    "            return\n",
    "\n",
    "        # Step 3: Allow the owner to update specific fields\n",
    "        valid_columns = [\"name\", \"location\", \"room_type\", \"listing_price\"]\n",
    "        print(\"\\nYou can update the following fields:\", \", \".join(valid_columns))\n",
    "\n",
    "        column = input(\"Enter the column you want to update: \").strip()\n",
    "        if column not in valid_columns:\n",
    "            print(f\"Invalid column. You can only update: {', '.join(valid_columns)}\")\n",
    "            return\n",
    "\n",
    "        new_value = input(f\"Enter the new value for {column}: \").strip()\n",
    "\n",
    "        # Convert new_value to the appropriate type for listing_price\n",
    "        if column == \"listing_price\":\n",
    "            try:\n",
    "                new_value = float(new_value)\n",
    "            except ValueError:\n",
    "                print(\"Invalid value. Listing price must be a number.\")\n",
    "                return\n",
    "\n",
    "        # Update the property\n",
    "        query = f\"UPDATE properties SET {column} = %s WHERE property_id = %s\"\n",
    "        execute_query(query, (new_value, property_id))\n",
    "        conn.commit()\n",
    "        print(f\"Property ID {property_id} updated successfully.\")\n",
    "    except mysql.connector.Error as e:\n",
    "        print(f\"Database error: {e}\")\n",
    "    except ValueError:\n",
    "        print(\"Invalid input. Please try again.\")"
   ]
  },
  {
   "cell_type": "markdown",
   "id": "a498708f-1113-4ae1-92fb-7e62045942e7",
   "metadata": {},
   "source": [
    "## Delete listing"
   ]
  },
  {
   "cell_type": "code",
   "execution_count": 114,
   "id": "a4dda142-514c-46f2-89c8-67c339656be0",
   "metadata": {},
   "outputs": [],
   "source": [
    "def delete_listing(owner_id):\n",
    "    \"\"\"\n",
    "    Deletes a listing owned by the owner and removes related entries from property_amenities.\n",
    "    \"\"\"\n",
    "    try:\n",
    "        # Step 1: Fetch and display all properties owned by the owner\n",
    "        query = \"SELECT property_id, name, location, room_type, listing_price FROM properties WHERE owner_id = %s\"\n",
    "        execute_query(query, (owner_id,))\n",
    "        properties = cursor.fetchall()\n",
    "\n",
    "        if not properties:\n",
    "            print(\"You do not own any properties to delete.\")\n",
    "            return\n",
    "\n",
    "        print(\"\\nYour Properties:\")\n",
    "        for idx, (property_id, name, location, room_type, listing_price) in enumerate(properties, start=1):\n",
    "            print(f\"{idx}. Property ID: {property_id}, Name: {name}, Location: {location}, \"\n",
    "                  f\"Room Type: {room_type}, Listing Price: ${listing_price:.2f}\")\n",
    "\n",
    "        # Step 2: Allow the owner to select a property to delete\n",
    "        try:\n",
    "            selection = int(input(\"\\nEnter the number of the property you want to delete (or 0 to cancel): \"))\n",
    "            if selection == 0:\n",
    "                print(\"No properties deleted. Exiting.\")\n",
    "                return\n",
    "\n",
    "            if 1 <= selection <= len(properties):\n",
    "                property_id = properties[selection - 1][0]  # Get the selected property's ID\n",
    "            else:\n",
    "                print(\"Invalid selection. Please choose a valid property number.\")\n",
    "                return\n",
    "        except ValueError:\n",
    "            print(\"Invalid input. Please enter a number.\")\n",
    "            return\n",
    "\n",
    "        # Step 3: Delete related entries from property_amenities\n",
    "        delete_amenities_query = \"DELETE FROM property_amenities WHERE property_id = %s\"\n",
    "        execute_query(delete_amenities_query, (property_id,))\n",
    "        conn.commit()\n",
    "        print(f\"Related amenities for Property ID {property_id} removed successfully.\")\n",
    "\n",
    "        # Step 4: Delete the property itself\n",
    "        delete_property_query = \"DELETE FROM properties WHERE property_id = %s\"\n",
    "        execute_query(delete_property_query, (property_id,))\n",
    "        conn.commit()\n",
    "        print(f\"Property ID {property_id} deleted successfully.\")\n",
    "    except mysql.connector.Error as e:\n",
    "        print(f\"Database error: {e}\")\n",
    "    except ValueError:\n",
    "        print(\"Invalid input. Please try again.\")"
   ]
  },
  {
   "cell_type": "markdown",
   "id": "da2c8c3b-2f61-4704-941e-4ca65abf5dc4",
   "metadata": {},
   "source": [
    "## View and Manage Requests"
   ]
  },
  {
   "cell_type": "code",
   "execution_count": 117,
   "id": "8f609afa-b9a3-47dc-b205-640828d831a5",
   "metadata": {},
   "outputs": [],
   "source": [
    "def view_and_manage_requests(owner_id):\n",
    "    \"\"\"\n",
    "    Allows the owner to view and respond to booking requests for their properties.\n",
    "    Owners can accept or deny requests. Accepted requests are added to the bookings table.\n",
    "    \"\"\"\n",
    "    try:\n",
    "        # Fetch and display pending requests\n",
    "        requests = fetch_pending_requests(owner_id)\n",
    "        if not requests:\n",
    "            print(\"You have no pending booking requests for your properties.\")\n",
    "            return\n",
    "\n",
    "        display_pending_requests(requests)\n",
    "\n",
    "        while True:\n",
    "            # Ask the owner to respond to a specific request\n",
    "            request_id = input(\"\\nEnter the Request ID to manage (or type 'exit' to go back): \").strip()\n",
    "            if request_id.lower() == 'exit':\n",
    "                print(\"Exiting request management.\")\n",
    "                break\n",
    "\n",
    "            try:\n",
    "                request_id = int(request_id)\n",
    "            except ValueError:\n",
    "                print(\"Invalid input. Please enter a numeric Request ID.\")\n",
    "                continue\n",
    "\n",
    "            # Validate the request and manage it\n",
    "            if validate_request(request_id, owner_id):\n",
    "                handle_request_action(request_id, owner_id)\n",
    "            else:\n",
    "                print(\"Invalid Request ID or the request is no longer pending.\")\n",
    "    except Exception as e:\n",
    "        print(f\"Error: {e}\")"
   ]
  },
  {
   "cell_type": "code",
   "execution_count": 119,
   "id": "7ca2a872-2198-44ef-8d33-7cb44bd2cfcc",
   "metadata": {},
   "outputs": [],
   "source": [
    "def fetch_pending_requests(owner_id):\n",
    "    \"\"\"\n",
    "    Fetches all pending requests for the given owner.\n",
    "    \"\"\"\n",
    "    query = \"\"\"\n",
    "        SELECT r.request_id, r.property_id, r.check_in_date, r.check_out_date, r.status, \n",
    "               u.user_name, p.listing_price\n",
    "        FROM requests r\n",
    "        INNER JOIN users u ON r.user_id = u.user_id\n",
    "        INNER JOIN properties p ON r.property_id = p.property_id\n",
    "        WHERE r.owner_id = %s AND r.status = 'Pending'\n",
    "    \"\"\"\n",
    "    execute_query(query, (owner_id,))\n",
    "    return cursor.fetchall()"
   ]
  },
  {
   "cell_type": "code",
   "execution_count": 121,
   "id": "29f7813c-1a15-4e5f-b275-de06b0ad5f1a",
   "metadata": {},
   "outputs": [],
   "source": [
    "def display_pending_requests(requests):\n",
    "    \"\"\"\n",
    "    Displays a list of pending requests in a user-friendly format.\n",
    "    \"\"\"\n",
    "    print(\"\\nHere are your pending booking requests:\")\n",
    "    for idx, req in enumerate(requests, start=1):\n",
    "        request_id, property_id, check_in_date, check_out_date, status, user_name, listing_price = req\n",
    "        nights_requested = (check_out_date - check_in_date).days\n",
    "        print(f\"{idx}. Request ID: {request_id}, Property ID: {property_id}, \"\n",
    "              f\"Check-in: {check_in_date}, Check-out: {check_out_date}, \"\n",
    "              f\"Nights: {nights_requested}, Guest: {user_name}, \"\n",
    "              f\"Price per Night: ${listing_price:.2f}, Status: {status}\")"
   ]
  },
  {
   "cell_type": "code",
   "execution_count": 123,
   "id": "518d89b3-3422-449f-b2f3-49748c2dc147",
   "metadata": {},
   "outputs": [],
   "source": [
    "def validate_request(request_id, owner_id):\n",
    "    \"\"\"\n",
    "    Validates that the request exists, belongs to the owner, and is pending.\n",
    "    \"\"\"\n",
    "    query = \"\"\"\n",
    "        SELECT request_id, property_id, check_in_date, check_out_date\n",
    "        FROM requests\n",
    "        WHERE request_id = %s AND owner_id = %s AND status = 'Pending'\n",
    "    \"\"\"\n",
    "    execute_query(query, (request_id, owner_id))\n",
    "    return cursor.fetchone()"
   ]
  },
  {
   "cell_type": "code",
   "execution_count": 125,
   "id": "376bb55f-dc71-4b93-a7dc-54aeeda502d3",
   "metadata": {},
   "outputs": [],
   "source": [
    "def handle_request_action(request_id, owner_id):\n",
    "    \"\"\"\n",
    "    Handles accepting or denying a booking request.\n",
    "    \"\"\"\n",
    "    decision = input(f\"\\nDo you want to Accept or Deny Request ID {request_id}? (A/D): \").strip().upper()\n",
    "    if decision == \"A\":\n",
    "        accept_request(request_id)\n",
    "    elif decision == \"D\":\n",
    "        deny_request(request_id)\n",
    "    else:\n",
    "        print(\"Invalid input. Please enter 'A' to Accept or 'D' to Deny.\")"
   ]
  },
  {
   "cell_type": "code",
   "execution_count": 127,
   "id": "1d090243-233d-4f70-8724-e69d1dc2c2ce",
   "metadata": {},
   "outputs": [],
   "source": [
    "def accept_request(request_id):\n",
    "    \"\"\"\n",
    "    Accepts a booking request, adds it to the bookings table, and updates the request with the generated booking_id.\n",
    "    \"\"\"\n",
    "    try:\n",
    "        # Mark the request as accepted\n",
    "        query = \"UPDATE requests SET status = 'Accepted' WHERE request_id = %s\"\n",
    "        execute_query(query, (request_id,))\n",
    "        conn.commit()\n",
    "        print(f\"Request ID {request_id} has been accepted.\")\n",
    "\n",
    "        # Fetch details for the booking, including user_id\n",
    "        booking_query = \"\"\"\n",
    "            SELECT r.property_id, r.check_in_date, r.check_out_date, r.user_id, p.listing_price\n",
    "            FROM requests r\n",
    "            INNER JOIN properties p ON r.property_id = p.property_id\n",
    "            WHERE r.request_id = %s\n",
    "        \"\"\"\n",
    "        execute_query(booking_query, (request_id,))\n",
    "        property_id, check_in_date, check_out_date, user_id, listing_price = cursor.fetchone()\n",
    "\n",
    "        nights_booked = (check_out_date - check_in_date).days\n",
    "        total_price = nights_booked * listing_price\n",
    "\n",
    "        # Generate a unique booking ID\n",
    "        while True:\n",
    "            booking_id = random.randint(10000, 99999)\n",
    "            query = \"SELECT COUNT(*) FROM bookings WHERE booking_id = %s\"\n",
    "            execute_query(query, (booking_id,))\n",
    "            if cursor.fetchone()[0] == 0:  # If booking_id is unique\n",
    "                break\n",
    "\n",
    "        # Prompt for payment method\n",
    "        payment_method = input(\"Enter the payment method (e.g., Credit Card, PayPal): \").strip()\n",
    "\n",
    "        # Add the booking to the bookings table\n",
    "        insert_booking_query = \"\"\"\n",
    "            INSERT INTO bookings (booking_id, property_id, user_id, check_in_date, check_out_date, \n",
    "                                  nights_booked, total_price, payment_method)\n",
    "            VALUES (%s, %s, %s, %s, %s, %s, %s, %s)\n",
    "        \"\"\"\n",
    "        execute_query(insert_booking_query, (booking_id, property_id, user_id, check_in_date, check_out_date, \n",
    "                                             nights_booked, total_price, payment_method))\n",
    "        conn.commit()\n",
    "        print(f\"Booking for Request ID {request_id} has been successfully added to the bookings table.\")\n",
    "\n",
    "        # Update the requests table with the booking ID\n",
    "        update_request_query = \"UPDATE requests SET booking_id = %s WHERE request_id = %s\"\n",
    "        execute_query(update_request_query, (booking_id, request_id))\n",
    "        conn.commit()\n",
    "        print(f\"Request ID {request_id} updated with Booking ID {booking_id}.\")\n",
    "\n",
    "    except mysql.connector.Error as e:\n",
    "        print(f\"Error during booking insertion: {e}\")"
   ]
  },
  {
   "cell_type": "code",
   "execution_count": 129,
   "id": "fb9c8afc-e1de-43f3-bb90-6ed7d26b45a6",
   "metadata": {},
   "outputs": [],
   "source": [
    "def deny_request(request_id):\n",
    "    \"\"\"\n",
    "    Denies a booking request by updating its status to 'Denied'.\n",
    "    \"\"\"\n",
    "    try:\n",
    "        query = \"UPDATE requests SET status = 'Denied' WHERE request_id = %s\"\n",
    "        execute_query(query, (request_id,))\n",
    "        conn.commit()\n",
    "        print(f\"Request ID {request_id} has been denied.\")\n",
    "    except mysql.connector.Error as e:\n",
    "        print(f\"Error denying the request: {e}\")"
   ]
  },
  {
   "cell_type": "code",
   "execution_count": 131,
   "id": "6403eb43-5738-4696-9cad-e71567ac0211",
   "metadata": {},
   "outputs": [
    {
     "name": "stdout",
     "output_type": "stream",
     "text": [
      "\n",
      "Welcome to the Vacation Rental System\n",
      "1. Owner Login\n",
      "2. User Login\n",
      "3. Exit\n"
     ]
    },
    {
     "name": "stdin",
     "output_type": "stream",
     "text": [
      "Enter your choice:  3\n"
     ]
    },
    {
     "name": "stdout",
     "output_type": "stream",
     "text": [
      "Goodbye!\n"
     ]
    }
   ],
   "source": [
    "if __name__ == \"__main__\":\n",
    "    try:\n",
    "        main_menu()\n",
    "    finally:\n",
    "        if conn.is_connected():\n",
    "            cursor.close()\n",
    "            conn.close()"
   ]
  },
  {
   "cell_type": "code",
   "execution_count": null,
   "id": "d30688ea-9e25-4acd-b5fa-091aa2b50ff9",
   "metadata": {},
   "outputs": [],
   "source": []
  }
 ],
 "metadata": {
  "kernelspec": {
   "display_name": "Python 3 (ipykernel)",
   "language": "python",
   "name": "python3"
  },
  "language_info": {
   "codemirror_mode": {
    "name": "ipython",
    "version": 3
   },
   "file_extension": ".py",
   "mimetype": "text/x-python",
   "name": "python",
   "nbconvert_exporter": "python",
   "pygments_lexer": "ipython3",
   "version": "3.12.4"
  }
 },
 "nbformat": 4,
 "nbformat_minor": 5
}
